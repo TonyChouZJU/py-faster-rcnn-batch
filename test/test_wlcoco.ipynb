{
 "cells": [
  {
   "cell_type": "code",
   "execution_count": 1,
   "metadata": {
    "collapsed": false
   },
   "outputs": [
    {
     "name": "stdout",
     "output_type": "stream",
     "text": [
      "\n",
      "\n",
      "Loaded network /home/tomorning/py-faster-rcnn/output/faster_rcnn_end2end/wlDet/wlDet_valdata_vgg_cnn_m_1024_faster_rcnn_iter_20000.caffemodel\n"
     ]
    }
   ],
   "source": [
    "import _init_paths\n",
    "from fast_rcnn.config import cfg\n",
    "from fast_rcnn.test import im_detect\n",
    "from fast_rcnn.nms_wrapper import nms\n",
    "from utils.timer import Timer\n",
    "import matplotlib.pyplot as plt\n",
    "import numpy as np\n",
    "import scipy.io as sio\n",
    "import caffe, os, sys, cv2\n",
    "import argparse\n",
    "from collections import Counter\n",
    "import shutil\n",
    "\n",
    "import xml.etree.ElementTree as ET\n",
    "from lxml import etree\n",
    "\n",
    "TEST_CLASSES = {\n",
    "    'hands': 'hands',\n",
    "    'faces': 'faces',\n",
    "    'human': 'human',\n",
    "    'wlcoco':'wlcoco',\n",
    "    'wlDet':'wlDet'\n",
    "}\n",
    "MODEL_CLASSES = {\n",
    "    'vgg_small':'VGG_CNN_M_1024',\n",
    "    'vgg_large':'VGG16'\n",
    "}\n",
    "TEST_CLASS = TEST_CLASSES['wlDet']\n",
    "\n",
    "\n",
    "cls_file = open('../' + TEST_CLASS + '_classes.txt', 'rb')\n",
    "CLASSES = [cls.strip() for cls in cls_file.readlines()]\n",
    "CLASSES = tuple(CLASSES)\n",
    "\n",
    "cfg.TEST.HAS_RPN = True  # Use RPN for proposals\n",
    "\n",
    "#MODELS_DIR = '/home/tomorning/py-faster-rcnn/models/'+ TEST_CLASS +'/VGG16/faster_rcnn_end2end/test.prototxt'\n",
    "#NET = '/home/tomorning/py-faster-rcnn/output/faster_rcnn_end2end/' + \\\n",
    "#    TEST_CLASS + '/vgg16_faster_rcnn_iter_100000.caffemodel'\n",
    "MODELS_DIR = '/home/tomorning/py-faster-rcnn/models/'+ TEST_CLASS +'/VGG_CNN_M_1024/faster_rcnn_end2end/test.prototxt'\n",
    "NET = '/home/tomorning/py-faster-rcnn/output/faster_rcnn_end2end/' + \\\n",
    "    'wlDet' + '/wlDet_valdata_vgg_cnn_m_1024_faster_rcnn_iter_20000.caffemodel'\n",
    "     #'wlDet' + '/wlDet_valdata_vgg16_faster_rcnn_iter_10000.caffemodel'\n",
    "DETS_DIR = '/home/tomorning/py-faster-rcnn/output/detections/faces_vgg16'\n",
    "    \n",
    "prototxt = MODELS_DIR\n",
    "caffemodel = NET\n",
    "if not os.path.isfile(caffemodel):\n",
    "    raise IOError(('{:s} not found.\\nDid you run ./data/script/'\n",
    "                       'fetch_faster_rcnn_models.sh?').format(caffemodel))\n",
    "\n",
    "caffe.set_mode_gpu()\n",
    "caffe.set_device(0)\n",
    "\n",
    "net = caffe.Net(prototxt, caffemodel, caffe.TEST)\n",
    "\n",
    "print '\\n\\nLoaded network {:s}'.format(caffemodel)\n",
    "\n",
    "MIN_IOU = 0.5\n",
    "CONF_THRESH = 0.8\n",
    "NMS_THRESH = 0.15\n",
    "min_box_size = 256"
   ]
  },
  {
   "cell_type": "code",
   "execution_count": 2,
   "metadata": {
    "collapsed": false
   },
   "outputs": [],
   "source": [
    "def vis_detections(im, class_names,dets,thresh = 0.8):\n",
    "    \"\"\"Draw detected bounding boxes.\"\"\"\n",
    "    if dets==None or len(dets) == 0:\n",
    "        print 'Detect Nothing in THIS IMAGE!!!'\n",
    "        return\n",
    "\n",
    "    im = im[:, :, (2, 1, 0)]\n",
    "    fig, ax = plt.subplots(figsize=(12, 12))\n",
    "    ax.imshow(im, aspect='equal')\n",
    "    #for bbox_score in dets:\n",
    "    for ind in range(len(dets)):\n",
    "        bbox_score = dets[ind]\n",
    "        class_name = class_names[ind]\n",
    "        bbox = bbox_score[:4]\n",
    "        score = bbox_score[-1]\n",
    "\n",
    "        ax.add_patch(\n",
    "            plt.Rectangle((bbox[0], bbox[1]),\n",
    "                          bbox[2] - bbox[0],\n",
    "                          bbox[3] - bbox[1], fill=False,\n",
    "                          edgecolor='red', linewidth=3.5)\n",
    "        )\n",
    "        ax.text(bbox[0], bbox[1] - 2,\n",
    "                 '{:s} {:.3f}'.format(class_name, score),\n",
    "                 bbox=dict(facecolor='blue', alpha=0.5),\n",
    "                 fontsize=14, color='white')\n",
    "\n",
    "    ax.set_title(('{} detections with '\n",
    "                   'p({} | box) >= {:.1f}').format(class_name, class_name,\n",
    "                                                   thresh),\n",
    "                  fontsize=14)\n",
    "    plt.axis('off')\n",
    "    plt.tight_layout()\n",
    "    plt.show()"
   ]
  },
  {
   "cell_type": "code",
   "execution_count": 3,
   "metadata": {
    "collapsed": true
   },
   "outputs": [],
   "source": [
    "def bbox_overlaps(gt_boxes, query_boxes):\n",
    "    \"\"\"\n",
    "     Calculate the overlaps between ground-truth boxes and query boxes.\n",
    "     boxes are in the form of (xmin, ymin, xmax, ymax).\n",
    "     :return list of corresponding overlaps\n",
    "    \"\"\"\n",
    "    \n",
    "    def calculate_overlap(gt_box, query_boxes):\n",
    "        overlaps = []\n",
    "        \n",
    "        box_area = (gt_box[2] * gt_box[3])\n",
    "        for query_box in query_boxes:\n",
    "            iw = (\n",
    "                min(gt_box[0] + gt_box[2], query_box[0] + query_box[2]) -\n",
    "                max(gt_box[0], query_box[0])\n",
    "            )\n",
    "            if iw > 0:\n",
    "                ih = (\n",
    "                    min(gt_box[1] + gt_box[3], query_box[1] + query_box[3]) -\n",
    "                    max(gt_box[1], query_box[1])\n",
    "                )\n",
    "                if ih > 0:\n",
    "                    ua = float(\n",
    "                        box_area +\n",
    "                        query_box[2] * query_box[3] -\n",
    "                        iw * ih\n",
    "                    )\n",
    "                    overlaps.append(iw * ih / ua)\n",
    "                else:\n",
    "                    overlaps.append(0)\n",
    "            else:\n",
    "                overlaps.append(0)\n",
    "        return np.array(overlaps, dtype=np.float32)[np.newaxis,:]\n",
    "    \n",
    "    gt_boxes[:, 2] -= gt_boxes[:, 0]\n",
    "    gt_boxes[:, 3] -= gt_boxes[:, 1]\n",
    "    query_boxes[:,2] -= query_boxes[:, 0]\n",
    "    query_boxes[:,3] -= query_boxes[:, 1]\n",
    "    overlaps = np.zeros((0, len(query_boxes)), dtype=np.float32)\n",
    "    for gt_box in gt_boxes:\n",
    "        _overlaps = calculate_overlap(gt_box, query_boxes)\n",
    "        overlaps = np.vstack((overlaps, _overlaps))\n",
    "    \n",
    "    return overlaps"
   ]
  },
  {
   "cell_type": "code",
   "execution_count": 4,
   "metadata": {
    "collapsed": true
   },
   "outputs": [],
   "source": [
    "def load_ground_truth(names, minSize = 25):\n",
    "    ground_truths = []\n",
    "    gt_names = []\n",
    "    for name in names:\n",
    "        xml = os.path.join('/home/tomorning/original_data/' +TEST_CLASS+ '/Annotations', name + '.xml')\n",
    "        xml = open(xml, 'rb')\n",
    "        tree = ET.parse(xml)\n",
    "        root = tree.getroot()\n",
    "        ground_truth_this = []\n",
    "        gt_names_this = []\n",
    "        for obj in root.iter('object'):\n",
    "            obj_name = obj.find('name').text\n",
    "            if not obj_name in CLASSES:\n",
    "                continue\n",
    "            gt_names_this.append(obj_name)\n",
    "            xmlbox = obj.find('bndbox')\n",
    "            b = (float(xmlbox.find('xmin').text), float(xmlbox.find('xmax').text), \n",
    "                 float(xmlbox.find('ymin').text), float(xmlbox.find('ymax').text))\n",
    "            # convert to (x, y, w, h)\n",
    "            xmin = int(b[0])\n",
    "            ymin = int(b[2])\n",
    "            xmax = int(b[1])\n",
    "            ymax = int(b[3])\n",
    "            this_gt_area = (ymax-ymin+1)* (xmax-xmin+1)\n",
    "            #if this_gt_area <= min_box_size:\n",
    "            if (ymax-ymin)<minSize or (xmax-xmin)<minSize:\n",
    "                continue\n",
    "            ground_truth_this.append([xmin, ymin, xmax, ymax, 1.0])\n",
    "        ground_truths.append(np.array(ground_truth_this, dtype=np.int32))\n",
    "        gt_names.append(gt_names_this)\n",
    "    return ground_truths, gt_names"
   ]
  },
  {
   "cell_type": "code",
   "execution_count": 5,
   "metadata": {
    "collapsed": true
   },
   "outputs": [],
   "source": [
    "def load_test_images(Ftest):\n",
    "    with open(Ftest, 'rb') as _f:\n",
    "        names = [img.strip('\\n') for img in _f.readlines()]\n",
    "        gts, gt_names = load_ground_truth(names)\n",
    "        imgs = [name+'.jpg' for name in names]\n",
    "    return imgs, gts, gt_names\n",
    "    #return imgs"
   ]
  },
  {
   "cell_type": "code",
   "execution_count": 6,
   "metadata": {
    "collapsed": true
   },
   "outputs": [],
   "source": [
    "def detect(net, image_name, thresh=0.5):\n",
    "    if not os.path.exists(image_name):\n",
    "        im_file = os.path.join('/home/tomorning/original_data/'+TEST_CLASS+'/JPEGImages', image_name)\n",
    "    else:\n",
    "        im_file = image_name\n",
    "    im = cv2.imread(im_file)\n",
    "    # Detect all object classes and regress object bounds\n",
    "    timer = Timer()\n",
    "    timer.tic()\n",
    "\n",
    "    scores, boxes = im_detect(net, im)\n",
    "    timer.toc()\n",
    "    #print ('Detection took {:.3f}s for '\n",
    "    #      '{:d} object proposals').format(timer.total_time, boxes.shape[0])\n",
    "    \n",
    "    dets_all = None\n",
    "    class_names = []\n",
    "    for cls_ind, cls in enumerate(CLASSES[1:]):\n",
    "        cls_ind += 1  # because we skipped background\n",
    "        cls_boxes = boxes[:, 4 * cls_ind:4 * (cls_ind + 1)]\n",
    "        cls_scores = scores[:, cls_ind]\n",
    "        dets = np.hstack((cls_boxes,\n",
    "                          cls_scores[:, np.newaxis])).astype(np.float32)\n",
    "        keep = nms(dets, NMS_THRESH)\n",
    "        dets = dets[keep, :]\n",
    "        inds = np.where(dets[:, -1] >= CONF_THRESH)[0]\n",
    "        if len(inds) == 0:\n",
    "            continue\n",
    "        dets = dets[inds, :]\n",
    "\n",
    "        if dets_all is None:\n",
    "            dets_all = dets\n",
    "            class_names = [cls] * len(dets)\n",
    "        else:\n",
    "            dets_all = np.vstack((dets_all, dets))\n",
    "            class_names = class_names + [cls] * len(dets)\n",
    "            \n",
    "        #vis_detections(im, cls, dets_all, thresh=CONF_THRESH)\n",
    "    #descend\n",
    "    if not dets_all is None:     \n",
    "        sorted_idx = np.argsort(dets_all,axis=0)[:,4][::-1]\n",
    "        dets_all = dets_all[sorted_idx,:]\n",
    "        class_names = [class_names[i] for i in sorted_idx]\n",
    "    return im, class_names, dets_all"
   ]
  },
  {
   "cell_type": "code",
   "execution_count": 7,
   "metadata": {
    "collapsed": true
   },
   "outputs": [],
   "source": [
    "def insert_object_node(root_node,xmin,ymin,xmax,ymax,label):\n",
    "    object_node = ET.SubElement(root_node,'object')\n",
    "    name_node = ET.SubElement(object_node,'name')\n",
    "    name_node.text = label\n",
    "    pose_node = ET.SubElement(object_node,'pose')\n",
    "    pose_node.text = 'Unspecified'\n",
    "    truncated_node = ET.SubElement(object_node,'truncated')\n",
    "    truncated_node.text = '0'\n",
    "    difficult_node = ET.SubElement(object_node,'difficult')\n",
    "    difficult_node.text = '0'\n",
    "\n",
    "    bndbox_node = ET.SubElement(object_node,'bndbox')\n",
    "    xmin_node = ET.SubElement(bndbox_node,'xmin')\n",
    "    xmin_node.text = str(xmin)\n",
    "    ymin_node = ET.SubElement(bndbox_node,'ymin')\n",
    "    ymin_node.text = str(ymin)\n",
    "    xmax_node = ET.SubElement(bndbox_node,'xmax')\n",
    "    xmax_node.text = str(xmax)\n",
    "    ymax_node = ET.SubElement(bndbox_node,'ymax')\n",
    "    ymax_node.text = str(ymax)"
   ]
  },
  {
   "cell_type": "code",
   "execution_count": 8,
   "metadata": {
    "collapsed": true
   },
   "outputs": [],
   "source": [
    "def save_xml(im_name, overlaps, gts, dets):\n",
    "    #create node\n",
    "    root_node = ET.Element('annotation')\n",
    "\n",
    "    folder_node = ET.SubElement(root_node,'folder')\n",
    "    folder_node.text = im_name\n",
    "    filename_node = ET.SubElement(root_node,'filename')\n",
    "    filename_node.text = im_name\n",
    "    path_node = ET.SubElement(root_node,'path')\n",
    "    path_node.text =im_name\n",
    "    \n",
    "\n",
    "    source_node = ET.SubElement(root_node,'source')\n",
    "    database_node = ET.SubElement(source_node,'database')\n",
    "    database_node.text = TEST_CLASS\n",
    "    \n",
    "    size_node = ET.SubElement(root_node,'size')\n",
    "    width_node = ET.SubElement(size_node,'width')\n",
    "    width_node.text= str(0)\n",
    "    height_node = ET.SubElement(size_node,'height')\n",
    "    height_node.text = str(0)\n",
    "    depth_node = ET.SubElement(size_node,'depth')\n",
    "    depth_node.text = '3'\n",
    "\n",
    "    segmented_node = ET.SubElement(root_node,'segmented')\n",
    "    segmented_node.text = '0'\n",
    "    \n",
    "    if gts is not None:\n",
    "        for i in range(gts.shape[0]):\n",
    "            [xmin,ymin,xmax,ymax] = gts[i,:4]\n",
    "            insert_object_node(root_node,xmin,ymin,xmax,ymax,'ground_truth')\n",
    "    if dets is not None:\n",
    "        for i in range(dets.shape[0]):\n",
    "            [xmin,ymin,xmax,ymax] = dets[i,:4]\n",
    "            insert_object_node(root_node,xmin,ymin,xmax,ymax,'detection')\n",
    "    \n",
    "    jpg = os.path.split(im_name)[-1]\n",
    "    xml_name = os.path.splitext(jpg)[0]\n",
    "    write_xml = DETS_DIR + '/' + xml_name + '.xml'\n",
    "    \n",
    "    tree = ET.ElementTree(root_node)\n",
    "    tree.write(write_xml, encoding='utf-8', xml_declaration = True)\n",
    "    \n",
    "    #lxml\n",
    "    parser = etree.XMLParser()\n",
    "    document = etree.parse(write_xml, parser)\n",
    "    document.write(write_xml,pretty_print = True, encoding = 'utf-8')"
   ]
  },
  {
   "cell_type": "code",
   "execution_count": 9,
   "metadata": {
    "collapsed": true
   },
   "outputs": [],
   "source": [
    "def single_test(ind):\n",
    "    Ftest = '/home/tomorning/original_data/' + TEST_CLASS + '/ImageSets/Main/test.txt'\n",
    "    test_imgs, gts, gt_names = load_test_images(Ftest)\n",
    "    #test_imgs = load_test_images(Ftest)\n",
    "\n",
    "    #detect(net, test_imgs[ind], thresh=CONF_THRESH)\n",
    "    im, class_names, detection_boxes = detect(net, test_imgs[ind], thresh=CONF_THRESH)\n",
    "    vis_detections(im,class_names, detection_boxes)\n",
    "    vis_detections(im, gt_names[ind], gts[ind])"
   ]
  },
  {
   "cell_type": "code",
   "execution_count": 10,
   "metadata": {
    "collapsed": false
   },
   "outputs": [],
   "source": [
    "def batch_test(begin):\n",
    "    Ftest = '/home/tomorning/original_data/' + TEST_CLASS + '/ImageSets/Main/test.txt'\n",
    "    test_imgs, gts, gt_names = load_test_images(Ftest)\n",
    "    test_imgs = test_imgs[begin:]\n",
    "    gts = gts[begin:]\n",
    "    \n",
    "    _mean = 0.\n",
    "    _av = 0.\n",
    "    sum_mean = 0.\n",
    "    sum_av = 0.\n",
    "    gt_box_num =0.\n",
    "    for ind in range(len(test_imgs)):\n",
    "        if len(gts[ind])==0:\n",
    "            print 'NO GT box', ind\n",
    "            continue\n",
    "        im,class_name, detection_boxes = detect(net, test_imgs[ind], thresh=CONF_THRESH)\n",
    "        if detection_boxes is None:\n",
    "            overlaps = np.zeros(len(gts[ind]))[:,np.newaxis]\n",
    "\n",
    "        else:\n",
    "            overlaps = bbox_overlaps(gts[ind].copy(), detection_boxes.copy())\n",
    "        overlaps = np.max(overlaps, axis=1)\n",
    "        pos_inds = np.where(overlaps > MIN_IOU)\n",
    "        _mean_this = np.mean(overlaps)\n",
    "        _av_this = float(len(overlaps[pos_inds])) / len(overlaps)\n",
    "        print ind, \":\", test_imgs[ind], ' mean:', _mean_this, ' av:', _av_this\n",
    "        _mean += _mean_this\n",
    "        sum_mean += np.sum(overlaps)\n",
    "        sum_av += float(len(overlaps[pos_inds]))\n",
    "        gt_box_num += len(gts[ind])\n",
    "        _av += _av_this\n",
    "        #print 'MEAN:', _mean / len(test_imgs), '\\tAV:',_av / len(test_imgs)\n",
    "        print 'MEAN:', sum_mean / gt_box_num, '\\tAV:',sum_av / gt_box_num\n",
    "        #save_xml(test_imgs[ind], overlaps, gts[ind], detection_boxes)"
   ]
  },
  {
   "cell_type": "code",
   "execution_count": 11,
   "metadata": {
    "collapsed": false
   },
   "outputs": [],
   "source": [
    "def wl_eval_recall_prec(begin,IoU_Thresh=MIN_IOU):\n",
    "    Ftest = '/home/tomorning/original_data/' + TEST_CLASS + '/ImageSets/Main/test.txt'\n",
    "    test_imgs, gts, gt_names = load_test_images(Ftest)\n",
    "    test_imgs = test_imgs[begin:]\n",
    "    gts = gts[begin:]\n",
    "    \n",
    "    _mean = 0.\n",
    "    _av = 0.\n",
    "    sum_mean = 0.\n",
    "    sum_av = 0.\n",
    "    \n",
    "    tp = []\n",
    "    fp = []\n",
    "    gt_deted = []\n",
    "    npos = 0\n",
    "    all_det_score = np.zeros(0)\n",
    "    for ind in range(len(test_imgs)):\n",
    "        if len(gts[ind])==0:\n",
    "            print 'NO GT box', ind\n",
    "            continue\n",
    "        npos += len(gts[ind])\n",
    "        im,class_name, detection_boxes = detect(net, test_imgs[ind], thresh=CONF_THRESH)\n",
    "        if detection_boxes is None:\n",
    "            continue\n",
    "        this_tp = np.array([0] * len(detection_boxes))\n",
    "        this_fp = np.array([0] * len(detection_boxes))\n",
    "        this_gt_deted = np.array([0] * len(gts[ind]))\n",
    "        this_score = None\n",
    "        \n",
    "        if detection_boxes is None:\n",
    "            overlaps = np.zeros(len(gts[ind]))[:,np.newaxis]\n",
    "        else:\n",
    "            overlaps = bbox_overlaps(gts[ind].copy(), detection_boxes.copy())\n",
    "            this_score = detection_boxes[:,4]\n",
    "        if not this_score is None:\n",
    "            all_det_score = np.hstack([all_det_score, this_score])\n",
    "            \n",
    "        \n",
    "        overlaps_of_obj = np.max(overlaps, axis=1)\n",
    "        obj_pos_inds = np.where(overlaps_of_obj > IoU_Thresh)\n",
    "        _mean_this = np.mean(overlaps_of_obj)\n",
    "        _av_this = float(len(overlaps_of_obj[obj_pos_inds])) / len(overlaps_of_obj)\n",
    "        sum_mean += np.sum(overlaps_of_obj)\n",
    "        sum_av += float(len(overlaps_of_obj[obj_pos_inds]))\n",
    "        \n",
    "        argmax_overlaps = overlaps.argmax(axis=0)\n",
    "        #overlaps = np.max(overlaps, axis=0) \n",
    "        max_overlaps = overlaps.max(axis=0)\n",
    "        pos_inds = np.where(max_overlaps > IoU_Thresh )[0]\n",
    "        this_fp[ np.where(~(max_overlaps> IoU_Thresh)) ]  = 1\n",
    "        \n",
    "        for det_idx in pos_inds:\n",
    "            gt_ok_idx = argmax_overlaps[det_idx]\n",
    "            if this_gt_deted[gt_ok_idx] == 0:\n",
    "                this_tp[det_idx] = 1\n",
    "                this_gt_deted[gt_ok_idx] = 1\n",
    "            else:\n",
    "                this_fp[det_idx] = 1\n",
    "                \n",
    "        if tp is None:\n",
    "            tp = this_tp;fp= this_fp; gt_deted = this_gt_deted;\n",
    "        else:\n",
    "            tp = np.append(tp,this_tp)\n",
    "            fp = np.append(fp,this_fp)\n",
    "            gt_deted = np.append(gt_deted, this_gt_deted)\n",
    "            \n",
    "    argmax_idx_score = np.argsort(-all_det_score)\n",
    "\n",
    "    tp = tp[argmax_idx_score]\n",
    "    fp = fp[argmax_idx_score]\n",
    "    \n",
    "    tp_cumsum = np.cumsum(tp)\n",
    "    fp_cumsum = np.cumsum(fp)\n",
    "    rec = tp_cumsum/npos\n",
    "    prec = tp_cumsum * 1./(tp_cumsum + fp_cumsum)\n",
    "    ap = 0\n",
    "    for t in range(11):\n",
    "        tmp_p = prec[rec>=t*0.1]\n",
    "        if len(tmp_p)==0:\n",
    "            p = 0\n",
    "        else:\n",
    "            p = np.max(prec[rec>=t*0.1])\n",
    "        ap=ap+p/11\n",
    "    print 'IoU_Thresh:',IoU_Thresh\n",
    "    print 'AP:',ap\n",
    "    print 'IoU MEAN:', sum_mean / npos, '\\tAverage Hit:',sum_av / npos\n",
    "    plt.subplots(figsize=(12, 12))\n",
    "    plt.plot(rec, prec, lw=2, color='navy',\n",
    "         label='Precision-Recall curve')\n",
    "    plt.xlabel('Recall')\n",
    "    plt.ylabel('Precision')\n",
    "    plt.ylim([np.min(prec)-0.2, 1.05])\n",
    "    plt.xlim([0.0, 1.0])\n",
    "    plt.legend(loc=\"lower left\")\n",
    "    plt.show()\n",
    "    return ap\n",
    "\n"
   ]
  },
  {
   "cell_type": "code",
   "execution_count": 12,
   "metadata": {
    "collapsed": false
   },
   "outputs": [],
   "source": [
    "def wl_eval_recall(begin,IoU_Thresh=MIN_IOU):\n",
    "    Ftest = '/home/tomorning/original_data/' + TEST_CLASS + '/ImageSets/Main/test.txt'\n",
    "    test_imgs, gts, gt_names = load_test_images(Ftest)\n",
    "    test_imgs = test_imgs[begin:]\n",
    "    gts = gts[begin:]\n",
    "    \n",
    "    npos = 0\n",
    "    gt_overlaps = np.zeros(0)\n",
    "    thresholds =None\n",
    "    for ind in range(len(test_imgs)):\n",
    "        if len(gts[ind])==0:\n",
    "            print 'NO GT box', ind\n",
    "            continue\n",
    "        npos += len(gts[ind])\n",
    "        im,class_name, detection_boxes = detect(net, test_imgs[ind], thresh=CONF_THRESH)\n",
    "        if detection_boxes is None:\n",
    "            continue\n",
    "\n",
    "        if detection_boxes is None:\n",
    "            overlaps = np.zeros(len(gts[ind]))[np.newaxis,:]\n",
    "        else:\n",
    "            overlaps = bbox_overlaps(gts[ind].copy(), detection_boxes.copy())\n",
    "            \n",
    "        _gt_overlaps = np.zeros((gts[ind].shape[0]))\n",
    "        \n",
    "        for j in xrange(gts[ind].shape[0]):\n",
    "            argmax_overlaps = overlaps.argmax(axis=1)\n",
    "            max_overlaps = overlaps.max(axis=1)\n",
    "            gt_ind = max_overlaps.argmax()\n",
    "            gt_ovr = max_overlaps.max()\n",
    "            if gt_ovr<0:\n",
    "                continue\n",
    "            box_ind = argmax_overlaps[gt_ind]\n",
    "            _gt_overlaps[j] = overlaps[gt_ind,box_ind]\n",
    "            assert(_gt_overlaps[j] == gt_ovr)\n",
    "            overlaps[gt_ind,:] = -1\n",
    "            overlaps[:,box_ind] = -1\n",
    "        gt_overlaps = np.hstack((gt_overlaps, _gt_overlaps))\n",
    "    \n",
    "    gt_overlaps = np.sort(gt_overlaps)\n",
    "    if thresholds is None:\n",
    "        step = 0.05\n",
    "        thresholds = np.arange(0.5, 0.95+ 1e-5, step)\n",
    "    recalls = np.zeros_like(thresholds)\n",
    "        \n",
    "    for i, t in enumerate(thresholds):\n",
    "        recalls[i] = (gt_overlaps >=t).sum() /float(npos)\n",
    "    ar = recalls.mean()\n",
    "    \n",
    "    print 'Recall@0.5:{:.3f}'.format(recalls[0])\n",
    "    print 'Recall@0.6:{:.3f}'.format(recalls[2])\n",
    "    print 'Recall@0.7:{:.3f}'.format(recalls[4])\n",
    "    print 'Recall@0.8:{:.3f}'.format(recalls[6])\n",
    "    print 'Recall@0.9:{:.3f}'.format(recalls[8])\n",
    "    print '{:.3f}'.format(ar)\n",
    "    return {'recalls':recalls,'npos':npos}"
   ]
  },
  {
   "cell_type": "code",
   "execution_count": 13,
   "metadata": {
    "collapsed": false,
    "scrolled": true
   },
   "outputs": [
    {
     "name": "stdout",
     "output_type": "stream",
     "text": [
      "Recall@0.5:0.737\n",
      "Recall@0.6:0.689\n",
      "Recall@0.7:0.567\n",
      "Recall@0.8:0.343\n",
      "Recall@0.9:0.074\n",
      "0.448\n"
     ]
    }
   ],
   "source": [
    "recall_dict = wl_eval_recall(0)"
   ]
  },
  {
   "cell_type": "code",
   "execution_count": 14,
   "metadata": {
    "collapsed": false
   },
   "outputs": [
    {
     "name": "stdout",
     "output_type": "stream",
     "text": [
      "[ 0.73717949  0.7275641   0.68910256  0.64423077  0.56730769  0.5\n",
      "  0.34294872  0.18910256  0.07371795  0.00961538] 312\n"
     ]
    }
   ],
   "source": [
    "print recall_dict['recalls'],recall_dict['npos']"
   ]
  },
  {
   "cell_type": "code",
   "execution_count": 15,
   "metadata": {
    "collapsed": false
   },
   "outputs": [
    {
     "name": "stdout",
     "output_type": "stream",
     "text": [
      "IoU_Thresh: 0.5\n",
      "AP: 0.6945155956\n",
      "IoU MEAN: 0.603316512914 \tAverage Hit: 0.740384615385\n"
     ]
    },
    {
     "data": {
      "image/png": "[encoded data removed]",
      "text/plain": [
       "<matplotlib.figure.Figure at 0x7f5449adb1d0>"
      ]
     },
     "metadata": {},
     "output_type": "display_data"
    },
    {
     "data": {
      "text/plain": [
       "0.69451559560033849"
      ]
     },
     "execution_count": 15,
     "metadata": {},
     "output_type": "execute_result"
    }
   ],
   "source": [
    "wl_eval_recall_prec(0)"
   ]
  },
  {
   "cell_type": "code",
   "execution_count": null,
   "metadata": {
    "collapsed": false,
    "scrolled": true
   },
   "outputs": [],
   "source": [
    "batch_test(100)"
   ]
  },
  {
   "cell_type": "code",
   "execution_count": null,
   "metadata": {
    "collapsed": false,
    "scrolled": true
   },
   "outputs": [],
   "source": [
    "for ind in range(20):\n",
    "    single_test(60+ind)"
   ]
  },
  {
   "cell_type": "code",
   "execution_count": null,
   "metadata": {
    "collapsed": false,
    "scrolled": true
   },
   "outputs": [],
   "source": [
    "img_dir = '/home/tomorning/tmp_img/'\n",
    "for img_file in os.listdir(img_dir):\n",
    "    img_name = img_dir + img_file\n",
    "    #detect(net, test_imgs[ind], thresh=CONF_THRESH)\n",
    "    im, class_names, detection_boxes = detect(net, img_name, thresh=CONF_THRESH)\n",
    "    if detection_boxes==None:\n",
    "        print 'Nothing detected',img_name\n",
    "    vis_detections(im,class_names, detection_boxes)"
   ]
  },
  {
   "cell_type": "code",
   "execution_count": null,
   "metadata": {
    "collapsed": false
   },
   "outputs": [],
   "source": [
    "print CLASSES "
   ]
  },
  {
   "cell_type": "code",
   "execution_count": null,
   "metadata": {
    "collapsed": true
   },
   "outputs": [],
   "source": []
  }
 ],
 "metadata": {
  "kernelspec": {
   "display_name": "Python 2",
   "language": "python",
   "name": "python2"
  },
  "language_info": {
   "codemirror_mode": {
    "name": "ipython",
    "version": 2
   },
   "file_extension": ".py",
   "mimetype": "text/x-python",
   "name": "python",
   "nbconvert_exporter": "python",
   "pygments_lexer": "ipython2",
   "version": "2.7.6"
  }
 },
 "nbformat": 4,
 "nbformat_minor": 1
}
